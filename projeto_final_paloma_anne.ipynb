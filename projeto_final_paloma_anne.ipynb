{
  "nbformat": 4,
  "nbformat_minor": 0,
  "metadata": {
    "colab": {
      "provenance": [],
      "authorship_tag": "ABX9TyOvSBnPVWpwBmHxLVn3qHbT",
      "include_colab_link": true
    },
    "kernelspec": {
      "name": "python3",
      "display_name": "Python 3"
    },
    "language_info": {
      "name": "python"
    }
  },
  "cells": [
    {
      "cell_type": "markdown",
      "metadata": {
        "id": "view-in-github",
        "colab_type": "text"
      },
      "source": [
        "<a href=\"https://colab.research.google.com/github/palomaavena/on35-python-s17-s18-projeto-final/blob/main/projeto_final_paloma_anne.ipynb\" target=\"_parent\"><img src=\"https://colab.research.google.com/assets/colab-badge.svg\" alt=\"Open In Colab\"/></a>"
      ]
    },
    {
      "cell_type": "markdown",
      "source": [
        "**Projeto Final de Análise de Dados**\n",
        "\n",
        "Desenvolvido por:\n",
        "\n",
        "Paloma Avena  palomaavena@gmail.com\n",
        "\n",
        "Anne Ribeiro  anne.asribeiro@gmail.com\n",
        "\n"
      ],
      "metadata": {
        "id": "4nPdko9j_PEt"
      }
    },
    {
      "cell_type": "markdown",
      "source": [
        "**Contexto**\n",
        "Este projeto consiste na criação de um banco de dados e análise destes dados de desmatamento e CO2 do estado da Bahia nos últimos 5 anos."
      ],
      "metadata": {
        "id": "WIMvI1tp_XVU"
      }
    },
    {
      "cell_type": "markdown",
      "source": [
        "**Etapas do projeto:**\n",
        "\n",
        "\n",
        "1. Selecionar a Base de Dados\n",
        "2. Definir Objetivo e Perguntas\n",
        "3. Realizar Análise Exploratória\n",
        "4. Gerar Base Final\n",
        "5. Criar Visualizações no Tableau\n",
        "6. Preparar Apresentação Final\n",
        "\n",
        "\n",
        "\n",
        "\n",
        "\n"
      ],
      "metadata": {
        "id": "uk5GxJpZ_ouB"
      }
    },
    {
      "cell_type": "markdown",
      "source": [
        "**Bases Escolhidas**\n",
        "\n",
        "Base 1: MapBiomas Alertas\n",
        "https://plataforma.alerta.mapbiomas.org/downloads\n",
        "\n",
        "Base 2: Sistema de Estimativas de Emissões e Remoções de Gases de Efeito Estufa (SEEG)\n",
        "https://plataforma.seeg.eco.br/?highlight=states-net-emissions-by-sector-goias&_gl=1*1nqir75*_ga*NTI0MDk2MzUwLjE3Mjc1NDQ0NjA.*_ga_XZWSWEJDWQ*MTcyNzU0NDQ2MC4xLjAuMTcyNzU0NDQ2MC4wLjAuMA.."
      ],
      "metadata": {
        "id": "vqYQ20MD_orK"
      }
    },
    {
      "cell_type": "markdown",
      "source": [
        "**Objetivo Geral:**\n",
        "\n",
        "Criar um banco de dados e realizar uma análise dos dados com o objetivo de identificar variáveis de como o desmatamento na Bahia impacta nas taxas de emissão de CO2 ?"
      ],
      "metadata": {
        "id": "ZypjoEDB_ooh"
      }
    },
    {
      "cell_type": "markdown",
      "source": [
        "**As perguntas norteadoras deste projeto são:**\n",
        "\n",
        "Como o desmatamento na Bahia impacta as taxas de emissão de CO₂ e qual sua relação com a temperatura dos oceanos?\n",
        "\n",
        "Qual a taxa de desmatamento nos biomas/municípios da Bahia e como ela evoluiu no período de 2019 a 2022?\n",
        "\n",
        "Qual a taxa de CO2 nos municípios da Bahia e como ela evoluiu no período de 2019 a 2022?\n",
        "\n",
        "Existe uma relação entre as áreas desmatadas e o aumento de CO2?\n",
        "\n",
        "Quais regiões da Bahia apresentam as maiores emissões de carbono derivadas do desmatamento?\n",
        "\n",
        "Houve alguma alteração no período da Pandemia?"
      ],
      "metadata": {
        "id": "mrO_v4O1_olp"
      }
    },
    {
      "cell_type": "markdown",
      "source": [
        "**Ferramentas Utilizadas:**\n",
        "\n",
        "Banco de dados\n",
        "Python (Jupyter Notebook): Para a análise exploratória de dados utilizando bibliotecas como Pandas, Seaborn, Matplotlib, etc.\n",
        "Tableau: Para criar as visualizações finais e apresentar os insights gerados.\n",
        "GitHub: Para versionamento do projeto e documentação.\n",
        "Google Colab (opcional): Para execução de notebooks de forma colaborativa e em nuvem.\n",
        "\n"
      ],
      "metadata": {
        "id": "VV5GKSMc_oia"
      }
    },
    {
      "cell_type": "markdown",
      "source": [
        "Instalando o **Python**: Acesse o site oficial do Python (https://www.python.org/) e baixe a versão mais recente para o seu sistema operacional. Siga as instruções de instalação para configurar o Python em seu computador.\n",
        "\n",
        "Instalando o  **Visual Studio Code (VS Code)**: Acesse o site (https://code.visualstudio.com/).\n",
        "\n",
        "**Extensões** que irão tornar o processo de desenvolvimento mais simples e intuitivo:\n",
        "\n",
        "SQLite: Essa extensão essencial oferece recursos para abrir e editar arquivos SQLite (.db), executar consultas SQL, visualizar dados e até mesmo criar tabelas e colunas diretamente no VS Code.\n",
        "\n",
        "SQLite Viewer: Com o SQLite Viewer, você pode visualizar seus dados SQLite de forma gráfica, sem precisar escrever código. Ele oferece uma interface simples e amigável para navegar pelas tabelas, visualizar os dados e editar registros.\n",
        "\n",
        "\n",
        "**Bibliotecas e módulos:**\n",
        "\n",
        "sqlite3\n",
        "csv\n",
        "Pandas\n",
        "Seaborn\n",
        "Matplotlib\n"
      ],
      "metadata": {
        "id": "n33nNlCqgZFC"
      }
    },
    {
      "cell_type": "markdown",
      "source": [
        "**Lendo Dados de um Arquivo CSV e Inserindo no Banco**\n",
        "\n",
        "Vamos começar lendo dados de um arquivo CSV e inserindo-os em uma tabela do banco de dados SQLite."
      ],
      "metadata": {
        "id": "Mli_IJAwjKhD"
      }
    },
    {
      "cell_type": "code",
      "source": [
        "# Criando a Tabela no SQLite\n",
        "# Primeiro, vamos criar uma tabela no banco de dados SQLite onde os dados do CSV serão armazenados.\n",
        "\n",
        "import sqlite3\n",
        "\n",
        "# Conectando ao banco de dados SQLite (ou criando se não existir)\n",
        "conn = sqlite3.connect('banco_projeto.db')\n",
        "cursor = conn.cursor()\n",
        "\n",
        "# Criando a tabela\n",
        "cursor.execute(\"\"\"\n",
        "CREATE TABLE IF NOT EXISTS dados_projeto (\n",
        "    id INTEGER PRIMARY KEY AUTOINCREMENT,\n",
        "    municipio TEXT NOT NULL,\n",
        "    ano INTEGER NOT NULL,\n",
        "    co2_t INTEGER NOT NULL,\n",
        "    area_ha INTEGER NOT NULL,\n",
        "\n",
        ")\n",
        "\"\"\")\n",
        "\n",
        "# Salvando as mudanças\n",
        "conn.commit()"
      ],
      "metadata": {
        "id": "Ji3LEpVgjUL5"
      },
      "execution_count": null,
      "outputs": []
    },
    {
      "cell_type": "markdown",
      "source": [
        "\n",
        "\n",
        "> Adicionar aspas\n",
        "\n",
        "Talvez essa parte seja no final apos os dados trabalhados\n",
        "\n",
        "> Adicionar aspas\n",
        "\n"
      ],
      "metadata": {
        "id": "o_MB9HIap-ww"
      }
    },
    {
      "cell_type": "code",
      "source": [
        "# Agora, vamos ler o arquivo CSV e inserir os dados na tabela:\n",
        "\n",
        "import csv\n",
        "import sqlite3\n",
        "\n",
        "# Conectando ao banco de dados\n",
        "conn = sqlite3.connect('banco_projeto.db')\n",
        "cursor = conn.cursor()\n",
        "\n",
        "# Abrindo o arquivo CSV  , dados.csv o nome do arquivo\n",
        "with open('dados.csv', 'r') as arquivo_csv:   # with open('clientes.csv', newline='', encoding='utf-8') as csvfile:\n",
        "    leitor_csv = csv.reader(arquivo_csv)      #    leitor = csv.reader(csvfile)\n",
        "\n",
        "    # Pulando o cabeçalho\n",
        "    next(leitor_csv)    #   next(leitor)\n",
        "\n",
        "    # Inserindo cada linha do CSV na tabela\n",
        "    for linha in leitor_csv:      #    for linha in leitor:\n",
        "        cursor.execute(\"INSERT INTO dados_projeto (id, municipio, ano, co2_t, area_ha) VALUES (?, ?, ?, ?, ?)\", (linha[0], int(linha[1]))   # cursor.execute(\"INSERT INTO clientes (nome, email) VALUES (?, ?)\", (linha[1], linha[2]))\n",
        "\n",
        "   # Insere vários estudantes de uma vez\n",
        "     # cursor.executemany(\"INSERT INTO estudantes (nome, idade) VALUES (?, ?)\", estudantes)\n",
        "\n",
        "        # consultar https://github.com/palomaavena/on35-python-s08-banco-de-dados-II/tree/main/exercicios/para-casa\n",
        "\n",
        "# Salvando as mudanças\n",
        "conn.commit()\n",
        "\n",
        "# Fechando a conexão\n",
        "cursor.close()\n",
        "conn.close()"
      ],
      "metadata": {
        "id": "Tpvq5zsEkIsj"
      },
      "execution_count": null,
      "outputs": []
    },
    {
      "cell_type": "markdown",
      "source": [
        "\n",
        "**Análise exploratória de dados**\n",
        "\n"
      ],
      "metadata": {
        "id": "miL-Xxpd_niS"
      }
    },
    {
      "cell_type": "markdown",
      "source": [
        "1. DADOS DE CO2 - SEEG\n"
      ],
      "metadata": {
        "id": "c48LiFSG_Fft"
      }
    },
    {
      "cell_type": "markdown",
      "source": [
        "Coleta de dados CO2 Bahia, SEEG:\n",
        "\n",
        "\n",
        "link: https://plataforma.seeg.eco.br/?highlight=states-net-emissions-by-sector-bahia&_gl=1*gambxz*_ga*MTk5NTgxNjM5MS4xNzI1NjQzNTE1*_ga_XZWSWEJDWQ*MTcyNTY0MzUxNS4xLjAuMTcyNTY0MzUxNS4wLjAuMA..blob:https://plataforma.seeg.eco.br/845fd445-2d02-43a9-bb87-14435bfb6c1b\n",
        "\n",
        "\n",
        "CO2: quantidade em tonelada"
      ],
      "metadata": {
        "id": "vo84te4Y7n-P"
      }
    },
    {
      "cell_type": "markdown",
      "source": [
        "Importando os dados das planilhas"
      ],
      "metadata": {
        "id": "rfcw5b-JebFU"
      }
    },
    {
      "cell_type": "code",
      "source": [
        "# Primeiro, instale a biblioteca pandas se ainda não estiver instalada\n",
        "!pip install pandas\n",
        "\n",
        "# Importando os dados\n",
        "import pandas as pd\n",
        "import csv\n",
        "\n",
        "# Carregando os dois arquivos CSV\n",
        "# Caso esteja rodando localmente, altere o caminho dos arquivos.\n",
        "# No Colab, você pode fazer upload dos arquivos com os botões de upload e colocar somente o nome do arquivo abaixo\n",
        "\n",
        "df1 = pd.read_csv('SEEG.csv')\n",
        "df2 = pd.read_csv('SEEG1.csv')\n",
        "\n",
        "# Exibindo as primeiras linhas dos DataFrames para verificar\n",
        "print(df1.head())\n",
        "print(df2.head())\n"
      ],
      "metadata": {
        "colab": {
          "base_uri": "https://localhost:8080/"
        },
        "id": "dxaI-_ekeF9W",
        "outputId": "1b116aa2-2e5b-48b5-b4f8-88b67865bacc"
      },
      "execution_count": null,
      "outputs": [
        {
          "output_type": "stream",
          "name": "stdout",
          "text": [
            "Requirement already satisfied: pandas in /usr/local/lib/python3.10/dist-packages (2.2.2)\n",
            "Requirement already satisfied: numpy>=1.22.4 in /usr/local/lib/python3.10/dist-packages (from pandas) (1.26.4)\n",
            "Requirement already satisfied: python-dateutil>=2.8.2 in /usr/local/lib/python3.10/dist-packages (from pandas) (2.8.2)\n",
            "Requirement already satisfied: pytz>=2020.1 in /usr/local/lib/python3.10/dist-packages (from pandas) (2024.2)\n",
            "Requirement already satisfied: tzdata>=2022.7 in /usr/local/lib/python3.10/dist-packages (from pandas) (2024.2)\n",
            "Requirement already satisfied: six>=1.5 in /usr/local/lib/python3.10/dist-packages (from python-dateutil>=2.8.2->pandas) (1.16.0)\n",
            "                            Categoria          1990          1991  \\\n",
            "0  Mudança de Uso da Terra e Floresta  7.034675e+07  7.178002e+07   \n",
            "\n",
            "           1992          1993          1994          1995          1996  \\\n",
            "0  6.619761e+07  7.059627e+07  6.556189e+07  6.583727e+07  5.788894e+07   \n",
            "\n",
            "           1997          1998  ...          2013          2014          2015  \\\n",
            "0  4.795778e+07  4.590264e+07  ...  5.195822e+07  3.719111e+07  3.190265e+07   \n",
            "\n",
            "           2016          2017          2018          2019          2020  \\\n",
            "0  3.130805e+07  3.234297e+07  3.804942e+07  3.372027e+07  3.324519e+07   \n",
            "\n",
            "           2021      2022  \n",
            "0  3.181527e+07  31412973  \n",
            "\n",
            "[1 rows x 34 columns]\n",
            "                   Categoria          1990          1991          1992  \\\n",
            "0         São Desidério (BA)  2.002523e+06  2.116496e+06  1.342632e+06   \n",
            "1  Formosa do Rio Preto (BA)  8.268747e+05  3.994671e+05  5.396696e+05   \n",
            "2             Jaborandi (BA)  5.986577e+05  3.230176e+05  5.522217e+05   \n",
            "3            Correntina (BA)  1.240466e+06  1.300028e+06  1.251180e+06   \n",
            "4             Barreiras (BA)  1.104449e+06  9.809112e+05  9.201021e+05   \n",
            "\n",
            "           1993          1994          1995          1996          1997  \\\n",
            "0  2.128146e+06  1.457664e+06  1.380662e+06  2.586180e+06  1.266969e+06   \n",
            "1  7.916206e+05  1.109452e+06  1.319670e+06  1.691259e+06  1.703959e+06   \n",
            "2  5.767153e+05  6.191671e+05  9.156728e+05  3.416252e+05  2.867088e+05   \n",
            "3  2.444920e+06  1.626112e+06  7.442169e+05  8.835755e+05  5.224134e+05   \n",
            "4  1.228585e+06  1.639774e+06  1.522551e+06  1.179748e+06  1.104723e+06   \n",
            "\n",
            "           1998  ...          2013          2014          2015          2016  \\\n",
            "0  2.054171e+06  ...  1.891963e+06  1.282559e+06  1.218159e+06  9.212761e+05   \n",
            "1  1.971454e+06  ...  3.487482e+06  2.810540e+06  1.893684e+06  6.809720e+05   \n",
            "2  3.425471e+05  ...  2.526260e+06  1.280666e+06  1.001395e+06  6.383960e+05   \n",
            "3  8.225963e+05  ...  1.683472e+06  1.255760e+06  1.275669e+06  1.072367e+06   \n",
            "4  1.254497e+06  ...  2.095302e+06  8.441796e+05  1.058625e+06  8.611082e+05   \n",
            "\n",
            "           2017          2018          2019          2020          2021  \\\n",
            "0  9.647149e+05  1.252957e+06  2.024108e+06  3.091203e+06  3.159580e+06   \n",
            "1  7.885680e+05  1.208044e+06  4.220327e+06  3.073766e+06  2.299738e+06   \n",
            "2  7.539480e+05  1.162687e+06  1.706968e+06  1.744004e+06  2.051921e+06   \n",
            "3  1.202182e+06  1.245274e+06  1.545573e+06  1.060526e+06  1.585476e+06   \n",
            "4  8.665016e+05  8.465682e+05  1.568927e+06  1.179766e+06  9.583063e+05   \n",
            "\n",
            "      2022  \n",
            "0  2729422  \n",
            "1  2432263  \n",
            "2  1734316  \n",
            "3  1473135  \n",
            "4   996163  \n",
            "\n",
            "[5 rows x 34 columns]\n"
          ]
        }
      ]
    },
    {
      "cell_type": "code",
      "source": [
        "df1.info()\n",
        "df2.info()"
      ],
      "metadata": {
        "colab": {
          "base_uri": "https://localhost:8080/"
        },
        "id": "248fsSuvOBAa",
        "outputId": "b2e19c63-b1e4-4021-9bb5-585d1834b049"
      },
      "execution_count": null,
      "outputs": [
        {
          "output_type": "stream",
          "name": "stdout",
          "text": [
            "<class 'pandas.core.frame.DataFrame'>\n",
            "RangeIndex: 1 entries, 0 to 0\n",
            "Data columns (total 34 columns):\n",
            " #   Column     Non-Null Count  Dtype  \n",
            "---  ------     --------------  -----  \n",
            " 0   Categoria  1 non-null      object \n",
            " 1   1990       1 non-null      float64\n",
            " 2   1991       1 non-null      float64\n",
            " 3   1992       1 non-null      float64\n",
            " 4   1993       1 non-null      float64\n",
            " 5   1994       1 non-null      float64\n",
            " 6   1995       1 non-null      float64\n",
            " 7   1996       1 non-null      float64\n",
            " 8   1997       1 non-null      float64\n",
            " 9   1998       1 non-null      float64\n",
            " 10  1999       1 non-null      float64\n",
            " 11  2000       1 non-null      float64\n",
            " 12  2001       1 non-null      float64\n",
            " 13  2002       1 non-null      float64\n",
            " 14  2003       1 non-null      float64\n",
            " 15  2004       1 non-null      float64\n",
            " 16  2005       1 non-null      float64\n",
            " 17  2006       1 non-null      float64\n",
            " 18  2007       1 non-null      float64\n",
            " 19  2008       1 non-null      float64\n",
            " 20  2009       1 non-null      float64\n",
            " 21  2010       1 non-null      float64\n",
            " 22  2011       1 non-null      float64\n",
            " 23  2012       1 non-null      float64\n",
            " 24  2013       1 non-null      float64\n",
            " 25  2014       1 non-null      float64\n",
            " 26  2015       1 non-null      float64\n",
            " 27  2016       1 non-null      float64\n",
            " 28  2017       1 non-null      float64\n",
            " 29  2018       1 non-null      float64\n",
            " 30  2019       1 non-null      float64\n",
            " 31  2020       1 non-null      float64\n",
            " 32  2021       1 non-null      float64\n",
            " 33  2022       1 non-null      int64  \n",
            "dtypes: float64(32), int64(1), object(1)\n",
            "memory usage: 400.0+ bytes\n",
            "<class 'pandas.core.frame.DataFrame'>\n",
            "RangeIndex: 31 entries, 0 to 30\n",
            "Data columns (total 34 columns):\n",
            " #   Column     Non-Null Count  Dtype  \n",
            "---  ------     --------------  -----  \n",
            " 0   Categoria  31 non-null     object \n",
            " 1   1990       31 non-null     float64\n",
            " 2   1991       31 non-null     float64\n",
            " 3   1992       31 non-null     float64\n",
            " 4   1993       31 non-null     float64\n",
            " 5   1994       31 non-null     float64\n",
            " 6   1995       31 non-null     float64\n",
            " 7   1996       31 non-null     float64\n",
            " 8   1997       31 non-null     float64\n",
            " 9   1998       31 non-null     float64\n",
            " 10  1999       31 non-null     float64\n",
            " 11  2000       31 non-null     float64\n",
            " 12  2001       31 non-null     float64\n",
            " 13  2002       31 non-null     float64\n",
            " 14  2003       31 non-null     float64\n",
            " 15  2004       31 non-null     float64\n",
            " 16  2005       31 non-null     float64\n",
            " 17  2006       31 non-null     float64\n",
            " 18  2007       31 non-null     float64\n",
            " 19  2008       31 non-null     float64\n",
            " 20  2009       31 non-null     float64\n",
            " 21  2010       31 non-null     float64\n",
            " 22  2011       31 non-null     float64\n",
            " 23  2012       31 non-null     float64\n",
            " 24  2013       31 non-null     float64\n",
            " 25  2014       31 non-null     float64\n",
            " 26  2015       31 non-null     float64\n",
            " 27  2016       31 non-null     float64\n",
            " 28  2017       31 non-null     float64\n",
            " 29  2018       31 non-null     float64\n",
            " 30  2019       31 non-null     float64\n",
            " 31  2020       31 non-null     float64\n",
            " 32  2021       31 non-null     float64\n",
            " 33  2022       31 non-null     int64  \n",
            "dtypes: float64(32), int64(1), object(1)\n",
            "memory usage: 8.4+ KB\n"
          ]
        }
      ]
    },
    {
      "cell_type": "code",
      "source": [
        "# Converta todas as colunas de anos para string, por exemplo\n",
        "\n",
        "df1[['2019', '2020', '2021', '2022']] = df1[['2019', '2020', '2021', '2022']].astype(float)\n",
        "df2[['2019', '2020', '2021', '2022']] = df2[['2019', '2020', '2021', '2022']].astype(float)\n",
        "\n",
        "# Converta a coluna Categoria também, se necessário\n",
        "df1['Categoria'] = df1['Categoria'].astype(str)\n",
        "df2['Categoria'] = df2['Categoria'].astype(str)\n",
        "\n",
        "\n",
        "# Exibindo as primeiras linhas dos DataFrames para verificar\n",
        "print(df1.head())\n",
        "print(df2.head())\n"
      ],
      "metadata": {
        "colab": {
          "base_uri": "https://localhost:8080/"
        },
        "id": "OqzNW3FoO7zC",
        "outputId": "f2305ddf-2ecb-4ff4-ecc1-85c58ce44139"
      },
      "execution_count": null,
      "outputs": [
        {
          "output_type": "stream",
          "name": "stdout",
          "text": [
            "                            Categoria          1990          1991  \\\n",
            "0  Mudança de Uso da Terra e Floresta  7.034675e+07  7.178002e+07   \n",
            "\n",
            "           1992          1993          1994          1995          1996  \\\n",
            "0  6.619761e+07  7.059627e+07  6.556189e+07  6.583727e+07  5.788894e+07   \n",
            "\n",
            "           1997          1998  ...          2013          2014          2015  \\\n",
            "0  4.795778e+07  4.590264e+07  ...  5.195822e+07  3.719111e+07  3.190265e+07   \n",
            "\n",
            "           2016          2017          2018          2019          2020  \\\n",
            "0  3.130805e+07  3.234297e+07  3.804942e+07  3.372027e+07  3.324519e+07   \n",
            "\n",
            "           2021        2022  \n",
            "0  3.181527e+07  31412973.0  \n",
            "\n",
            "[1 rows x 34 columns]\n",
            "                   Categoria          1990          1991          1992  \\\n",
            "0         São Desidério (BA)  2.002523e+06  2.116496e+06  1.342632e+06   \n",
            "1  Formosa do Rio Preto (BA)  8.268747e+05  3.994671e+05  5.396696e+05   \n",
            "2             Jaborandi (BA)  5.986577e+05  3.230176e+05  5.522217e+05   \n",
            "3            Correntina (BA)  1.240466e+06  1.300028e+06  1.251180e+06   \n",
            "4             Barreiras (BA)  1.104449e+06  9.809112e+05  9.201021e+05   \n",
            "\n",
            "           1993          1994          1995          1996          1997  \\\n",
            "0  2.128146e+06  1.457664e+06  1.380662e+06  2.586180e+06  1.266969e+06   \n",
            "1  7.916206e+05  1.109452e+06  1.319670e+06  1.691259e+06  1.703959e+06   \n",
            "2  5.767153e+05  6.191671e+05  9.156728e+05  3.416252e+05  2.867088e+05   \n",
            "3  2.444920e+06  1.626112e+06  7.442169e+05  8.835755e+05  5.224134e+05   \n",
            "4  1.228585e+06  1.639774e+06  1.522551e+06  1.179748e+06  1.104723e+06   \n",
            "\n",
            "           1998  ...          2013          2014          2015          2016  \\\n",
            "0  2.054171e+06  ...  1.891963e+06  1.282559e+06  1.218159e+06  9.212761e+05   \n",
            "1  1.971454e+06  ...  3.487482e+06  2.810540e+06  1.893684e+06  6.809720e+05   \n",
            "2  3.425471e+05  ...  2.526260e+06  1.280666e+06  1.001395e+06  6.383960e+05   \n",
            "3  8.225963e+05  ...  1.683472e+06  1.255760e+06  1.275669e+06  1.072367e+06   \n",
            "4  1.254497e+06  ...  2.095302e+06  8.441796e+05  1.058625e+06  8.611082e+05   \n",
            "\n",
            "           2017          2018          2019          2020          2021  \\\n",
            "0  9.647149e+05  1.252957e+06  2.024108e+06  3.091203e+06  3.159580e+06   \n",
            "1  7.885680e+05  1.208044e+06  4.220327e+06  3.073766e+06  2.299738e+06   \n",
            "2  7.539480e+05  1.162687e+06  1.706968e+06  1.744004e+06  2.051921e+06   \n",
            "3  1.202182e+06  1.245274e+06  1.545573e+06  1.060526e+06  1.585476e+06   \n",
            "4  8.665016e+05  8.465682e+05  1.568927e+06  1.179766e+06  9.583063e+05   \n",
            "\n",
            "        2022  \n",
            "0  2729422.0  \n",
            "1  2432263.0  \n",
            "2  1734316.0  \n",
            "3  1473135.0  \n",
            "4   996163.0  \n",
            "\n",
            "[5 rows x 34 columns]\n"
          ]
        }
      ]
    },
    {
      "cell_type": "code",
      "source": [
        "# Remover espaços em branco no início e no fim dos valores das colunas de chave\n",
        "\n",
        "df1['Categoria'] = df1['Categoria'].str.strip()\n",
        "df2['Categoria'] = df2['Categoria'].str.strip()\n",
        "\n",
        "\n",
        "\n",
        "# Exibindo as primeiras linhas dos DataFrames para verificar\n",
        "print(df1.head())\n",
        "print(df2.head())\n"
      ],
      "metadata": {
        "colab": {
          "base_uri": "https://localhost:8080/"
        },
        "id": "5g1khb57PCoK",
        "outputId": "14b66a07-2f56-4599-8f65-ee0e8557b8be"
      },
      "execution_count": null,
      "outputs": [
        {
          "output_type": "stream",
          "name": "stdout",
          "text": [
            "                            Categoria          1990          1991  \\\n",
            "0  Mudança de Uso da Terra e Floresta  7.034675e+07  7.178002e+07   \n",
            "\n",
            "           1992          1993          1994          1995          1996  \\\n",
            "0  6.619761e+07  7.059627e+07  6.556189e+07  6.583727e+07  5.788894e+07   \n",
            "\n",
            "           1997          1998  ...          2013          2014          2015  \\\n",
            "0  4.795778e+07  4.590264e+07  ...  5.195822e+07  3.719111e+07  3.190265e+07   \n",
            "\n",
            "           2016          2017          2018          2019          2020  \\\n",
            "0  3.130805e+07  3.234297e+07  3.804942e+07  3.372027e+07  3.324519e+07   \n",
            "\n",
            "           2021        2022  \n",
            "0  3.181527e+07  31412973.0  \n",
            "\n",
            "[1 rows x 34 columns]\n",
            "                   Categoria          1990          1991          1992  \\\n",
            "0         São Desidério (BA)  2.002523e+06  2.116496e+06  1.342632e+06   \n",
            "1  Formosa do Rio Preto (BA)  8.268747e+05  3.994671e+05  5.396696e+05   \n",
            "2             Jaborandi (BA)  5.986577e+05  3.230176e+05  5.522217e+05   \n",
            "3            Correntina (BA)  1.240466e+06  1.300028e+06  1.251180e+06   \n",
            "4             Barreiras (BA)  1.104449e+06  9.809112e+05  9.201021e+05   \n",
            "\n",
            "           1993          1994          1995          1996          1997  \\\n",
            "0  2.128146e+06  1.457664e+06  1.380662e+06  2.586180e+06  1.266969e+06   \n",
            "1  7.916206e+05  1.109452e+06  1.319670e+06  1.691259e+06  1.703959e+06   \n",
            "2  5.767153e+05  6.191671e+05  9.156728e+05  3.416252e+05  2.867088e+05   \n",
            "3  2.444920e+06  1.626112e+06  7.442169e+05  8.835755e+05  5.224134e+05   \n",
            "4  1.228585e+06  1.639774e+06  1.522551e+06  1.179748e+06  1.104723e+06   \n",
            "\n",
            "           1998  ...          2013          2014          2015          2016  \\\n",
            "0  2.054171e+06  ...  1.891963e+06  1.282559e+06  1.218159e+06  9.212761e+05   \n",
            "1  1.971454e+06  ...  3.487482e+06  2.810540e+06  1.893684e+06  6.809720e+05   \n",
            "2  3.425471e+05  ...  2.526260e+06  1.280666e+06  1.001395e+06  6.383960e+05   \n",
            "3  8.225963e+05  ...  1.683472e+06  1.255760e+06  1.275669e+06  1.072367e+06   \n",
            "4  1.254497e+06  ...  2.095302e+06  8.441796e+05  1.058625e+06  8.611082e+05   \n",
            "\n",
            "           2017          2018          2019          2020          2021  \\\n",
            "0  9.647149e+05  1.252957e+06  2.024108e+06  3.091203e+06  3.159580e+06   \n",
            "1  7.885680e+05  1.208044e+06  4.220327e+06  3.073766e+06  2.299738e+06   \n",
            "2  7.539480e+05  1.162687e+06  1.706968e+06  1.744004e+06  2.051921e+06   \n",
            "3  1.202182e+06  1.245274e+06  1.545573e+06  1.060526e+06  1.585476e+06   \n",
            "4  8.665016e+05  8.465682e+05  1.568927e+06  1.179766e+06  9.583063e+05   \n",
            "\n",
            "        2022  \n",
            "0  2729422.0  \n",
            "1  2432263.0  \n",
            "2  1734316.0  \n",
            "3  1473135.0  \n",
            "4   996163.0  \n",
            "\n",
            "[5 rows x 34 columns]\n"
          ]
        }
      ]
    },
    {
      "cell_type": "code",
      "source": [
        "print(\"Valores únicos de Categoria no df1:\", df1['Categoria'].unique())\n",
        "print(\"Valores únicos de Categoria no df2:\", df2['Categoria'].unique())\n"
      ],
      "metadata": {
        "colab": {
          "base_uri": "https://localhost:8080/"
        },
        "id": "ujuFqHrRPVJL",
        "outputId": "d918341b-9b43-4db2-b7d4-5a2c4976ccaf"
      },
      "execution_count": null,
      "outputs": [
        {
          "output_type": "stream",
          "name": "stdout",
          "text": [
            "Valores únicos de Categoria no df1: ['Mudança de Uso da Terra e Floresta']\n",
            "Valores únicos de Categoria no df2: ['São Desidério (BA)' 'Formosa do Rio Preto (BA)' 'Jaborandi (BA)'\n",
            " 'Correntina (BA)' 'Barreiras (BA)' 'Riachão das Neves (BA)'\n",
            " 'Santa Rita de Cássia (BA)' 'Jequié (BA)' 'Encruzilhada (BA)'\n",
            " 'Baianópolis (BA)' 'Valença (BA)' 'Cocos (BA)' 'Belmonte (BA)'\n",
            " 'Luís Eduardo Magalhães (BA)' 'Barra (BA)' 'Cotegipe (BA)'\n",
            " 'Ibirapitanga (BA)' 'Itagibá (BA)' 'Itapetinga (BA)' 'Iguaí (BA)'\n",
            " 'Maraú (BA)' 'Ibicuí (BA)' 'Guaratinga (BA)' 'Nilo Peçanha (BA)'\n",
            " 'Camamu (BA)' 'Itambé (BA)' 'Dário Meira (BA)' 'Igrapiúna (BA)'\n",
            " 'Ilhéus (BA)' 'Itarantim (BA)' 'Outros']\n"
          ]
        }
      ]
    },
    {
      "cell_type": "code",
      "source": [
        "# Fazendo a mesclagem com base em várias colunas\n",
        "df_merged = pd.merge(df1, df2, on=['Categoria', '2019', '2020', '2021', '2022'], how='outer', suffixes=('.x', '.y'))\n",
        "\n",
        "\n",
        "# Exibindo as primeiras linhas do arquivo mesclado\n",
        "print(df_merged.head())\n",
        "\n",
        "# Salvando o arquivo final mesclado em um novo CSV\n",
        "#df_merged.to_csv('co2_mesclado.csv', index=False)\n"
      ],
      "metadata": {
        "colab": {
          "base_uri": "https://localhost:8080/"
        },
        "id": "FfdOp23TLhdk",
        "outputId": "6e83fb7e-ec27-45a6-f2e9-2b0f99acacc5"
      },
      "execution_count": null,
      "outputs": [
        {
          "output_type": "stream",
          "name": "stdout",
          "text": [
            "          Categoria  1990.x  1991.x  1992.x  1993.x  1994.x  1995.x  1996.x  \\\n",
            "0  Baianópolis (BA)     NaN     NaN     NaN     NaN     NaN     NaN     NaN   \n",
            "1        Barra (BA)     NaN     NaN     NaN     NaN     NaN     NaN     NaN   \n",
            "2    Barreiras (BA)     NaN     NaN     NaN     NaN     NaN     NaN     NaN   \n",
            "3     Belmonte (BA)     NaN     NaN     NaN     NaN     NaN     NaN     NaN   \n",
            "4       Camamu (BA)     NaN     NaN     NaN     NaN     NaN     NaN     NaN   \n",
            "\n",
            "   1997.x  1998.x  ...         2009.y         2010.y        2011.y  \\\n",
            "0     NaN     NaN  ...  201533.680923  198100.860538  6.037104e+05   \n",
            "1     NaN     NaN  ...  293285.996844  190840.199123  2.542452e+05   \n",
            "2     NaN     NaN  ...  782536.543400  499205.103294  1.123564e+06   \n",
            "3     NaN     NaN  ...  305481.817527  362152.208117  3.601907e+05   \n",
            "4     NaN     NaN  ...  233046.682173  244347.041716  1.454052e+05   \n",
            "\n",
            "         2012.y        2013.y        2014.y        2015.y         2016.y  \\\n",
            "0  6.769915e+05  6.462472e+05  6.534717e+05  4.394508e+05  297636.543553   \n",
            "1  2.154561e+05  4.209665e+05  1.320592e+06  7.130062e+05  237763.732862   \n",
            "2  2.600460e+06  2.095302e+06  8.441796e+05  1.058625e+06  861108.203390   \n",
            "3  2.477949e+05  4.196629e+05  3.442798e+05  3.239090e+05  970812.041222   \n",
            "4  2.455068e+05  2.883452e+05  2.205248e+05  1.565318e+05  182309.875579   \n",
            "\n",
            "          2017.y         2018.y  \n",
            "0  522833.621365  720253.263252  \n",
            "1  373584.710467  381685.422644  \n",
            "2  866501.596361  846568.187975  \n",
            "3  811434.286499  302593.128041  \n",
            "4  283636.498159  325602.310323  \n",
            "\n",
            "[5 rows x 63 columns]\n"
          ]
        }
      ]
    },
    {
      "cell_type": "code",
      "source": [
        "df_merged.info()"
      ],
      "metadata": {
        "colab": {
          "base_uri": "https://localhost:8080/"
        },
        "id": "9ZQt2hYePVUj",
        "outputId": "990d868a-9b4a-4d9a-fb27-44bace3564c9"
      },
      "execution_count": null,
      "outputs": [
        {
          "output_type": "stream",
          "name": "stdout",
          "text": [
            "<class 'pandas.core.frame.DataFrame'>\n",
            "RangeIndex: 32 entries, 0 to 31\n",
            "Data columns (total 63 columns):\n",
            " #   Column     Non-Null Count  Dtype  \n",
            "---  ------     --------------  -----  \n",
            " 0   Categoria  32 non-null     object \n",
            " 1   1990.x     1 non-null      float64\n",
            " 2   1991.x     1 non-null      float64\n",
            " 3   1992.x     1 non-null      float64\n",
            " 4   1993.x     1 non-null      float64\n",
            " 5   1994.x     1 non-null      float64\n",
            " 6   1995.x     1 non-null      float64\n",
            " 7   1996.x     1 non-null      float64\n",
            " 8   1997.x     1 non-null      float64\n",
            " 9   1998.x     1 non-null      float64\n",
            " 10  1999.x     1 non-null      float64\n",
            " 11  2000.x     1 non-null      float64\n",
            " 12  2001.x     1 non-null      float64\n",
            " 13  2002.x     1 non-null      float64\n",
            " 14  2003.x     1 non-null      float64\n",
            " 15  2004.x     1 non-null      float64\n",
            " 16  2005.x     1 non-null      float64\n",
            " 17  2006.x     1 non-null      float64\n",
            " 18  2007.x     1 non-null      float64\n",
            " 19  2008.x     1 non-null      float64\n",
            " 20  2009.x     1 non-null      float64\n",
            " 21  2010.x     1 non-null      float64\n",
            " 22  2011.x     1 non-null      float64\n",
            " 23  2012.x     1 non-null      float64\n",
            " 24  2013.x     1 non-null      float64\n",
            " 25  2014.x     1 non-null      float64\n",
            " 26  2015.x     1 non-null      float64\n",
            " 27  2016.x     1 non-null      float64\n",
            " 28  2017.x     1 non-null      float64\n",
            " 29  2018.x     1 non-null      float64\n",
            " 30  2019       32 non-null     float64\n",
            " 31  2020       32 non-null     float64\n",
            " 32  2021       32 non-null     float64\n",
            " 33  2022       32 non-null     float64\n",
            " 34  1990.y     31 non-null     float64\n",
            " 35  1991.y     31 non-null     float64\n",
            " 36  1992.y     31 non-null     float64\n",
            " 37  1993.y     31 non-null     float64\n",
            " 38  1994.y     31 non-null     float64\n",
            " 39  1995.y     31 non-null     float64\n",
            " 40  1996.y     31 non-null     float64\n",
            " 41  1997.y     31 non-null     float64\n",
            " 42  1998.y     31 non-null     float64\n",
            " 43  1999.y     31 non-null     float64\n",
            " 44  2000.y     31 non-null     float64\n",
            " 45  2001.y     31 non-null     float64\n",
            " 46  2002.y     31 non-null     float64\n",
            " 47  2003.y     31 non-null     float64\n",
            " 48  2004.y     31 non-null     float64\n",
            " 49  2005.y     31 non-null     float64\n",
            " 50  2006.y     31 non-null     float64\n",
            " 51  2007.y     31 non-null     float64\n",
            " 52  2008.y     31 non-null     float64\n",
            " 53  2009.y     31 non-null     float64\n",
            " 54  2010.y     31 non-null     float64\n",
            " 55  2011.y     31 non-null     float64\n",
            " 56  2012.y     31 non-null     float64\n",
            " 57  2013.y     31 non-null     float64\n",
            " 58  2014.y     31 non-null     float64\n",
            " 59  2015.y     31 non-null     float64\n",
            " 60  2016.y     31 non-null     float64\n",
            " 61  2017.y     31 non-null     float64\n",
            " 62  2018.y     31 non-null     float64\n",
            "dtypes: float64(62), object(1)\n",
            "memory usage: 15.9+ KB\n"
          ]
        }
      ]
    },
    {
      "cell_type": "code",
      "source": [
        "# Exibe os nomes das colunas\n",
        "df_merged.columns"
      ],
      "metadata": {
        "colab": {
          "base_uri": "https://localhost:8080/"
        },
        "id": "_nxnSeaIPvL4",
        "outputId": "cf54b6a6-ecea-4cd3-e610-b93c041fcfa1"
      },
      "execution_count": null,
      "outputs": [
        {
          "output_type": "execute_result",
          "data": {
            "text/plain": [
              "Index(['Categoria', '1990.x', '1991.x', '1992.x', '1993.x', '1994.x', '1995.x',\n",
              "       '1996.x', '1997.x', '1998.x', '1999.x', '2000.x', '2001.x', '2002.x',\n",
              "       '2003.x', '2004.x', '2005.x', '2006.x', '2007.x', '2008.x', '2009.x',\n",
              "       '2010.x', '2011.x', '2012.x', '2013.x', '2014.x', '2015.x', '2016.x',\n",
              "       '2017.x', '2018.x', '2019', '2020', '2021', '2022', '1990.y', '1991.y',\n",
              "       '1992.y', '1993.y', '1994.y', '1995.y', '1996.y', '1997.y', '1998.y',\n",
              "       '1999.y', '2000.y', '2001.y', '2002.y', '2003.y', '2004.y', '2005.y',\n",
              "       '2006.y', '2007.y', '2008.y', '2009.y', '2010.y', '2011.y', '2012.y',\n",
              "       '2013.y', '2014.y', '2015.y', '2016.y', '2017.y', '2018.y'],\n",
              "      dtype='object')"
            ]
          },
          "metadata": {},
          "execution_count": 40
        }
      ]
    },
    {
      "cell_type": "code",
      "source": [
        "# Selecionar as colunas específicas\n",
        "\n",
        "df_reduzido = df_merged[['Categoria','2019', '2020', '2021', '2022']]\n",
        "print(df_reduzido)"
      ],
      "metadata": {
        "colab": {
          "base_uri": "https://localhost:8080/"
        },
        "id": "C03aHBXA3taC",
        "outputId": "8e02e184-77c0-49ef-f0b4-ca9f1cbdfb12"
      },
      "execution_count": null,
      "outputs": [
        {
          "output_type": "stream",
          "name": "stdout",
          "text": [
            "                             Categoria          2019          2020  \\\n",
            "0                     Baianópolis (BA)  6.074368e+05  7.908150e+05   \n",
            "1                           Barra (BA)  2.260111e+05  1.397781e+05   \n",
            "2                       Barreiras (BA)  1.568927e+06  1.179766e+06   \n",
            "3                        Belmonte (BA)  3.904032e+05  3.505588e+05   \n",
            "4                          Camamu (BA)  2.214714e+05  4.347414e+05   \n",
            "5                           Cocos (BA)  9.593941e+05  1.218387e+06   \n",
            "6                      Correntina (BA)  1.545573e+06  1.060526e+06   \n",
            "7                        Cotegipe (BA)  3.311638e+05  5.599601e+05   \n",
            "8                     Dário Meira (BA)  9.440196e+04  9.250477e+04   \n",
            "9                    Encruzilhada (BA)  4.038959e+05  4.516205e+05   \n",
            "10           Formosa do Rio Preto (BA)  4.220327e+06  3.073766e+06   \n",
            "11                     Guaratinga (BA)  2.117080e+05  2.516566e+05   \n",
            "12                         Ibicuí (BA)  1.696392e+04  3.524000e+04   \n",
            "13                   Ibirapitanga (BA)  8.620563e+04  2.963629e+05   \n",
            "14                      Igrapiúna (BA)  2.576941e+05  3.782366e+05   \n",
            "15                          Iguaí (BA)  8.222719e+04  1.274713e+05   \n",
            "16                         Ilhéus (BA)  1.588721e+05  1.912059e+05   \n",
            "17                        Itagibá (BA)  1.216756e+05  7.210208e+04   \n",
            "18                         Itambé (BA)  1.001077e+05  1.444300e+05   \n",
            "19                     Itapetinga (BA)  5.707418e+04  4.613513e+04   \n",
            "20                      Itarantim (BA)  3.847215e+04  6.031930e+04   \n",
            "21                      Jaborandi (BA)  1.706968e+06  1.744004e+06   \n",
            "22                         Jequié (BA)  2.491692e+05  1.862657e+05   \n",
            "23         Luís Eduardo Magalhães (BA)  8.004357e+05  1.523413e+06   \n",
            "24                          Maraú (BA)  8.020749e+04  1.701269e+05   \n",
            "25  Mudança de Uso da Terra e Floresta  3.372027e+07  3.324519e+07   \n",
            "26                   Nilo Peçanha (BA)  9.027649e+04  1.546260e+05   \n",
            "27                              Outros  1.554645e+07  1.304776e+07   \n",
            "28              Riachão das Neves (BA)  5.801730e+05  1.085054e+06   \n",
            "29           Santa Rita de Cássia (BA)  6.947971e+05  8.595094e+05   \n",
            "30                  São Desidério (BA)  2.024108e+06  3.091203e+06   \n",
            "31                        Valença (BA)  2.476738e+05  4.276377e+05   \n",
            "\n",
            "            2021        2022  \n",
            "0   1.700892e+06    413632.0  \n",
            "1   7.905882e+04    312169.0  \n",
            "2   9.583063e+05    996163.0  \n",
            "3   3.314850e+05    354868.0  \n",
            "4   1.635482e+05    232571.0  \n",
            "5   1.229645e+06    367625.0  \n",
            "6   1.585476e+06   1473135.0  \n",
            "7   2.925473e+05    297663.0  \n",
            "8   1.017979e+05    217077.0  \n",
            "9   5.873154e+05    414662.0  \n",
            "10  2.299738e+06   2432263.0  \n",
            "11  1.717426e+05    243882.0  \n",
            "12  2.780070e+04    245755.0  \n",
            "13  7.243660e+04    292758.0  \n",
            "14  1.486217e+05    210971.0  \n",
            "15  1.559627e+05    277970.0  \n",
            "16  1.317151e+05    209209.0  \n",
            "17  1.114533e+05    288483.0  \n",
            "18  6.526349e+04    227632.0  \n",
            "19  2.072777e+04    285382.0  \n",
            "20  1.040533e+04    203154.0  \n",
            "21  2.051921e+06   1734316.0  \n",
            "22  1.639264e+05    498001.0  \n",
            "23  6.542620e+05    343098.0  \n",
            "24  1.032113e+05    275953.0  \n",
            "25  3.181527e+07  31412973.0  \n",
            "26  5.956842e+04    238334.0  \n",
            "27  1.342087e+07  13978140.0  \n",
            "28  7.619633e+05    670183.0  \n",
            "29  9.987006e+05    569631.0  \n",
            "30  3.159580e+06   2729422.0  \n",
            "31  1.953325e+05    378871.0  \n"
          ]
        }
      ]
    },
    {
      "cell_type": "code",
      "source": [
        "# Altera os nomes das colunas\n",
        "\n",
        "df_reduzido.columns = ['Municípios', '2019', '2020', '2021', '2022']\n",
        "print(df_reduzido)"
      ],
      "metadata": {
        "id": "hJwmd2gz47IT",
        "colab": {
          "base_uri": "https://localhost:8080/"
        },
        "outputId": "8d115c57-993c-4534-b012-3d6e641176dc"
      },
      "execution_count": null,
      "outputs": [
        {
          "output_type": "stream",
          "name": "stdout",
          "text": [
            "                            Municípios          2019          2020  \\\n",
            "0                     Baianópolis (BA)  6.074368e+05  7.908150e+05   \n",
            "1                           Barra (BA)  2.260111e+05  1.397781e+05   \n",
            "2                       Barreiras (BA)  1.568927e+06  1.179766e+06   \n",
            "3                        Belmonte (BA)  3.904032e+05  3.505588e+05   \n",
            "4                          Camamu (BA)  2.214714e+05  4.347414e+05   \n",
            "5                           Cocos (BA)  9.593941e+05  1.218387e+06   \n",
            "6                      Correntina (BA)  1.545573e+06  1.060526e+06   \n",
            "7                        Cotegipe (BA)  3.311638e+05  5.599601e+05   \n",
            "8                     Dário Meira (BA)  9.440196e+04  9.250477e+04   \n",
            "9                    Encruzilhada (BA)  4.038959e+05  4.516205e+05   \n",
            "10           Formosa do Rio Preto (BA)  4.220327e+06  3.073766e+06   \n",
            "11                     Guaratinga (BA)  2.117080e+05  2.516566e+05   \n",
            "12                         Ibicuí (BA)  1.696392e+04  3.524000e+04   \n",
            "13                   Ibirapitanga (BA)  8.620563e+04  2.963629e+05   \n",
            "14                      Igrapiúna (BA)  2.576941e+05  3.782366e+05   \n",
            "15                          Iguaí (BA)  8.222719e+04  1.274713e+05   \n",
            "16                         Ilhéus (BA)  1.588721e+05  1.912059e+05   \n",
            "17                        Itagibá (BA)  1.216756e+05  7.210208e+04   \n",
            "18                         Itambé (BA)  1.001077e+05  1.444300e+05   \n",
            "19                     Itapetinga (BA)  5.707418e+04  4.613513e+04   \n",
            "20                      Itarantim (BA)  3.847215e+04  6.031930e+04   \n",
            "21                      Jaborandi (BA)  1.706968e+06  1.744004e+06   \n",
            "22                         Jequié (BA)  2.491692e+05  1.862657e+05   \n",
            "23         Luís Eduardo Magalhães (BA)  8.004357e+05  1.523413e+06   \n",
            "24                          Maraú (BA)  8.020749e+04  1.701269e+05   \n",
            "25  Mudança de Uso da Terra e Floresta  3.372027e+07  3.324519e+07   \n",
            "26                   Nilo Peçanha (BA)  9.027649e+04  1.546260e+05   \n",
            "27                              Outros  1.554645e+07  1.304776e+07   \n",
            "28              Riachão das Neves (BA)  5.801730e+05  1.085054e+06   \n",
            "29           Santa Rita de Cássia (BA)  6.947971e+05  8.595094e+05   \n",
            "30                  São Desidério (BA)  2.024108e+06  3.091203e+06   \n",
            "31                        Valença (BA)  2.476738e+05  4.276377e+05   \n",
            "\n",
            "            2021        2022  \n",
            "0   1.700892e+06    413632.0  \n",
            "1   7.905882e+04    312169.0  \n",
            "2   9.583063e+05    996163.0  \n",
            "3   3.314850e+05    354868.0  \n",
            "4   1.635482e+05    232571.0  \n",
            "5   1.229645e+06    367625.0  \n",
            "6   1.585476e+06   1473135.0  \n",
            "7   2.925473e+05    297663.0  \n",
            "8   1.017979e+05    217077.0  \n",
            "9   5.873154e+05    414662.0  \n",
            "10  2.299738e+06   2432263.0  \n",
            "11  1.717426e+05    243882.0  \n",
            "12  2.780070e+04    245755.0  \n",
            "13  7.243660e+04    292758.0  \n",
            "14  1.486217e+05    210971.0  \n",
            "15  1.559627e+05    277970.0  \n",
            "16  1.317151e+05    209209.0  \n",
            "17  1.114533e+05    288483.0  \n",
            "18  6.526349e+04    227632.0  \n",
            "19  2.072777e+04    285382.0  \n",
            "20  1.040533e+04    203154.0  \n",
            "21  2.051921e+06   1734316.0  \n",
            "22  1.639264e+05    498001.0  \n",
            "23  6.542620e+05    343098.0  \n",
            "24  1.032113e+05    275953.0  \n",
            "25  3.181527e+07  31412973.0  \n",
            "26  5.956842e+04    238334.0  \n",
            "27  1.342087e+07  13978140.0  \n",
            "28  7.619633e+05    670183.0  \n",
            "29  9.987006e+05    569631.0  \n",
            "30  3.159580e+06   2729422.0  \n",
            "31  1.953325e+05    378871.0  \n"
          ]
        }
      ]
    },
    {
      "cell_type": "code",
      "source": [
        "# Verifica valores nulos\n",
        "\n",
        "nulos = df_reduzido.isnull()\n",
        "print(nulos)\n",
        "\n",
        "# Contagem de valores nulos em cada coluna\n",
        "\n",
        "nulos_por_coluna = df_reduzido.isnull().sum()\n",
        "print(nulos_por_coluna)"
      ],
      "metadata": {
        "colab": {
          "base_uri": "https://localhost:8080/"
        },
        "id": "4XDFa2Ol6Fgg",
        "outputId": "0a75c668-4ddd-4801-b6ed-d4bc6a90b8a3"
      },
      "execution_count": null,
      "outputs": [
        {
          "output_type": "stream",
          "name": "stdout",
          "text": [
            "    Municípios   2019   2020   2021   2022\n",
            "0        False  False  False  False  False\n",
            "1        False  False  False  False  False\n",
            "2        False  False  False  False  False\n",
            "3        False  False  False  False  False\n",
            "4        False  False  False  False  False\n",
            "5        False  False  False  False  False\n",
            "6        False  False  False  False  False\n",
            "7        False  False  False  False  False\n",
            "8        False  False  False  False  False\n",
            "9        False  False  False  False  False\n",
            "10       False  False  False  False  False\n",
            "11       False  False  False  False  False\n",
            "12       False  False  False  False  False\n",
            "13       False  False  False  False  False\n",
            "14       False  False  False  False  False\n",
            "15       False  False  False  False  False\n",
            "16       False  False  False  False  False\n",
            "17       False  False  False  False  False\n",
            "18       False  False  False  False  False\n",
            "19       False  False  False  False  False\n",
            "20       False  False  False  False  False\n",
            "21       False  False  False  False  False\n",
            "22       False  False  False  False  False\n",
            "23       False  False  False  False  False\n",
            "24       False  False  False  False  False\n",
            "25       False  False  False  False  False\n",
            "26       False  False  False  False  False\n",
            "27       False  False  False  False  False\n",
            "28       False  False  False  False  False\n",
            "29       False  False  False  False  False\n",
            "30       False  False  False  False  False\n",
            "31       False  False  False  False  False\n",
            "Municípios    0\n",
            "2019          0\n",
            "2020          0\n",
            "2021          0\n",
            "2022          0\n",
            "dtype: int64\n"
          ]
        }
      ]
    },
    {
      "cell_type": "code",
      "source": [
        "# Remove linhas duplicadas\n",
        "\n",
        "df_sem_duplicatas = df_reduzido.drop_duplicates()\n",
        "print(df_sem_duplicatas)"
      ],
      "metadata": {
        "colab": {
          "base_uri": "https://localhost:8080/"
        },
        "id": "RdfDmG8I6UuT",
        "outputId": "91cf09cc-13a8-4003-efc3-97a46b7c771e"
      },
      "execution_count": null,
      "outputs": [
        {
          "output_type": "stream",
          "name": "stdout",
          "text": [
            "                            Municípios          2019          2020  \\\n",
            "0                     Baianópolis (BA)  6.074368e+05  7.908150e+05   \n",
            "1                           Barra (BA)  2.260111e+05  1.397781e+05   \n",
            "2                       Barreiras (BA)  1.568927e+06  1.179766e+06   \n",
            "3                        Belmonte (BA)  3.904032e+05  3.505588e+05   \n",
            "4                          Camamu (BA)  2.214714e+05  4.347414e+05   \n",
            "5                           Cocos (BA)  9.593941e+05  1.218387e+06   \n",
            "6                      Correntina (BA)  1.545573e+06  1.060526e+06   \n",
            "7                        Cotegipe (BA)  3.311638e+05  5.599601e+05   \n",
            "8                     Dário Meira (BA)  9.440196e+04  9.250477e+04   \n",
            "9                    Encruzilhada (BA)  4.038959e+05  4.516205e+05   \n",
            "10           Formosa do Rio Preto (BA)  4.220327e+06  3.073766e+06   \n",
            "11                     Guaratinga (BA)  2.117080e+05  2.516566e+05   \n",
            "12                         Ibicuí (BA)  1.696392e+04  3.524000e+04   \n",
            "13                   Ibirapitanga (BA)  8.620563e+04  2.963629e+05   \n",
            "14                      Igrapiúna (BA)  2.576941e+05  3.782366e+05   \n",
            "15                          Iguaí (BA)  8.222719e+04  1.274713e+05   \n",
            "16                         Ilhéus (BA)  1.588721e+05  1.912059e+05   \n",
            "17                        Itagibá (BA)  1.216756e+05  7.210208e+04   \n",
            "18                         Itambé (BA)  1.001077e+05  1.444300e+05   \n",
            "19                     Itapetinga (BA)  5.707418e+04  4.613513e+04   \n",
            "20                      Itarantim (BA)  3.847215e+04  6.031930e+04   \n",
            "21                      Jaborandi (BA)  1.706968e+06  1.744004e+06   \n",
            "22                         Jequié (BA)  2.491692e+05  1.862657e+05   \n",
            "23         Luís Eduardo Magalhães (BA)  8.004357e+05  1.523413e+06   \n",
            "24                          Maraú (BA)  8.020749e+04  1.701269e+05   \n",
            "25  Mudança de Uso da Terra e Floresta  3.372027e+07  3.324519e+07   \n",
            "26                   Nilo Peçanha (BA)  9.027649e+04  1.546260e+05   \n",
            "27                              Outros  1.554645e+07  1.304776e+07   \n",
            "28              Riachão das Neves (BA)  5.801730e+05  1.085054e+06   \n",
            "29           Santa Rita de Cássia (BA)  6.947971e+05  8.595094e+05   \n",
            "30                  São Desidério (BA)  2.024108e+06  3.091203e+06   \n",
            "31                        Valença (BA)  2.476738e+05  4.276377e+05   \n",
            "\n",
            "            2021        2022  \n",
            "0   1.700892e+06    413632.0  \n",
            "1   7.905882e+04    312169.0  \n",
            "2   9.583063e+05    996163.0  \n",
            "3   3.314850e+05    354868.0  \n",
            "4   1.635482e+05    232571.0  \n",
            "5   1.229645e+06    367625.0  \n",
            "6   1.585476e+06   1473135.0  \n",
            "7   2.925473e+05    297663.0  \n",
            "8   1.017979e+05    217077.0  \n",
            "9   5.873154e+05    414662.0  \n",
            "10  2.299738e+06   2432263.0  \n",
            "11  1.717426e+05    243882.0  \n",
            "12  2.780070e+04    245755.0  \n",
            "13  7.243660e+04    292758.0  \n",
            "14  1.486217e+05    210971.0  \n",
            "15  1.559627e+05    277970.0  \n",
            "16  1.317151e+05    209209.0  \n",
            "17  1.114533e+05    288483.0  \n",
            "18  6.526349e+04    227632.0  \n",
            "19  2.072777e+04    285382.0  \n",
            "20  1.040533e+04    203154.0  \n",
            "21  2.051921e+06   1734316.0  \n",
            "22  1.639264e+05    498001.0  \n",
            "23  6.542620e+05    343098.0  \n",
            "24  1.032113e+05    275953.0  \n",
            "25  3.181527e+07  31412973.0  \n",
            "26  5.956842e+04    238334.0  \n",
            "27  1.342087e+07  13978140.0  \n",
            "28  7.619633e+05    670183.0  \n",
            "29  9.987006e+05    569631.0  \n",
            "30  3.159580e+06   2729422.0  \n",
            "31  1.953325e+05    378871.0  \n"
          ]
        }
      ]
    },
    {
      "cell_type": "code",
      "source": [
        "df_sem_duplicatas = pd.melt(df_sem_duplicatas, id_vars=['Municípios'], value_vars=['2019', '2020', '2021', '2022'], var_name='Ano', value_name='CO2_emitido')\n",
        "\n",
        "print(df_sem_duplicatas)"
      ],
      "metadata": {
        "colab": {
          "base_uri": "https://localhost:8080/"
        },
        "id": "y-O4AWyvWiKo",
        "outputId": "ebfcf814-8fc9-45b8-bba9-205e2449657d"
      },
      "execution_count": null,
      "outputs": [
        {
          "output_type": "stream",
          "name": "stdout",
          "text": [
            "                    Municípios   Ano   CO2_emitido\n",
            "0             Baianópolis (BA)  2019  6.074368e+05\n",
            "1                   Barra (BA)  2019  2.260111e+05\n",
            "2               Barreiras (BA)  2019  1.568927e+06\n",
            "3                Belmonte (BA)  2019  3.904032e+05\n",
            "4                  Camamu (BA)  2019  2.214714e+05\n",
            "..                         ...   ...           ...\n",
            "123                     Outros  2022  1.397814e+07\n",
            "124     Riachão das Neves (BA)  2022  6.701830e+05\n",
            "125  Santa Rita de Cássia (BA)  2022  5.696310e+05\n",
            "126         São Desidério (BA)  2022  2.729422e+06\n",
            "127               Valença (BA)  2022  3.788710e+05\n",
            "\n",
            "[128 rows x 3 columns]\n"
          ]
        }
      ]
    },
    {
      "cell_type": "code",
      "source": [
        "# Salvando o arquivo final mesclado em um novo CSV\n",
        "\n",
        "df_sem_duplicatas.to_csv('co2.csv', index=False, encoding='utf-8')\n",
        "\n",
        "print(df_sem_duplicatas)\n",
        "\n"
      ],
      "metadata": {
        "colab": {
          "base_uri": "https://localhost:8080/"
        },
        "id": "rAUV5SOqQPex",
        "outputId": "798b2bd5-95a9-4d9a-b01a-b13d8202eeb1"
      },
      "execution_count": null,
      "outputs": [
        {
          "output_type": "stream",
          "name": "stdout",
          "text": [
            "                    Municípios   Ano   CO2_emitido\n",
            "0             Baianópolis (BA)  2019  6.074368e+05\n",
            "1                   Barra (BA)  2019  2.260111e+05\n",
            "2               Barreiras (BA)  2019  1.568927e+06\n",
            "3                Belmonte (BA)  2019  3.904032e+05\n",
            "4                  Camamu (BA)  2019  2.214714e+05\n",
            "..                         ...   ...           ...\n",
            "123                     Outros  2022  1.397814e+07\n",
            "124     Riachão das Neves (BA)  2022  6.701830e+05\n",
            "125  Santa Rita de Cássia (BA)  2022  5.696310e+05\n",
            "126         São Desidério (BA)  2022  2.729422e+06\n",
            "127               Valença (BA)  2022  3.788710e+05\n",
            "\n",
            "[128 rows x 3 columns]\n"
          ]
        }
      ]
    },
    {
      "cell_type": "markdown",
      "source": [
        "**2. DADOS DESMATAMENTO - MAPBIOMAS**"
      ],
      "metadata": {
        "id": "4b3RXVJPee-P"
      }
    },
    {
      "cell_type": "code",
      "source": [
        "import pandas as pd\n",
        "import numpy as np\n",
        "import matplotlib.pyplot as plt"
      ],
      "metadata": {
        "id": "GGWC3zlhehXu"
      },
      "execution_count": null,
      "outputs": []
    },
    {
      "cell_type": "code",
      "source": [
        "# importando dados\n",
        "\n",
        "df3 = pd.read_csv('mapbiomas_ba.csv')\n",
        "\n",
        "# Exibindo as primeiras linhas dos DataFrames para verificar\n",
        "\n",
        "print(df3.head())"
      ],
      "metadata": {
        "colab": {
          "base_uri": "https://localhost:8080/"
        },
        "id": "dOTnbHapgsxF",
        "outputId": "54e20fc2-b210-4d27-f225-37dcf2427f4a"
      },
      "execution_count": null,
      "outputs": [
        {
          "output_type": "stream",
          "name": "stdout",
          "text": [
            "   CODEALERTA           FONTE     BIOMA ESTADO      MUNICIPIO  AREAHA  \\\n",
            "0     1226926  {SAD-CAATINGA}  Caatinga  BAHIA           Iaçu    2.96   \n",
            "1     1226922  {SAD-CAATINGA}  Caatinga  BAHIA  Miguel Calmon    1.69   \n",
            "2     1227303  {SAD-CAATINGA}  Caatinga  BAHIA     Buritirama    2.05   \n",
            "3     1227296  {SAD-CAATINGA}  Caatinga  BAHIA          Piatã    0.69   \n",
            "4     1227291  {SAD-CAATINGA}  Caatinga  BAHIA       Cotegipe   23.97   \n",
            "\n",
            "   ANODETEC   DATADETEC    DTIMGANT    DTIMGDEP     DTPUBLI     VPRESSAO  \n",
            "0    2024.0  2024/01/01  2023/01/26  2024/02/14  2024/04/30  agriculture  \n",
            "1    2024.0  2024/01/01  2023/06/30  2024/01/31  2024/04/30  agriculture  \n",
            "2    2024.0  2024/01/01  2023/03/17  2023/10/10  2024/04/30  agriculture  \n",
            "3    2024.0  2024/01/01  2023/04/27  2023/06/17  2024/04/30  agriculture  \n",
            "4    2024.0  2024/01/01  2023/08/12  2023/10/17  2024/04/30  agriculture  \n"
          ]
        }
      ]
    },
    {
      "cell_type": "code",
      "source": [
        "df3.info()"
      ],
      "metadata": {
        "colab": {
          "base_uri": "https://localhost:8080/"
        },
        "id": "TUEysu1IQn2V",
        "outputId": "fb2776d2-5a4e-44c9-afc9-48f959320c75"
      },
      "execution_count": null,
      "outputs": [
        {
          "output_type": "stream",
          "name": "stdout",
          "text": [
            "<class 'pandas.core.frame.DataFrame'>\n",
            "RangeIndex: 28397 entries, 0 to 28396\n",
            "Data columns (total 12 columns):\n",
            " #   Column      Non-Null Count  Dtype  \n",
            "---  ------      --------------  -----  \n",
            " 0   CODEALERTA  28397 non-null  int64  \n",
            " 1   FONTE       28397 non-null  object \n",
            " 2   BIOMA       28397 non-null  object \n",
            " 3   ESTADO      28397 non-null  object \n",
            " 4   MUNICIPIO   28397 non-null  object \n",
            " 5   AREAHA      28397 non-null  float64\n",
            " 6   ANODETEC    28397 non-null  float64\n",
            " 7   DATADETEC   28397 non-null  object \n",
            " 8   DTIMGANT    28397 non-null  object \n",
            " 9   DTIMGDEP    28397 non-null  object \n",
            " 10  DTPUBLI     28397 non-null  object \n",
            " 11  VPRESSAO    28397 non-null  object \n",
            "dtypes: float64(2), int64(1), object(9)\n",
            "memory usage: 2.6+ MB\n"
          ]
        }
      ]
    },
    {
      "cell_type": "code",
      "source": [
        "# Converta todas as colunas de anos para int, por exemplo\n",
        "\n",
        "df3[['ANODETEC']] = df3[['ANODETEC']].astype(int)\n",
        "\n",
        "df3.info()"
      ],
      "metadata": {
        "colab": {
          "base_uri": "https://localhost:8080/"
        },
        "id": "_0gvkwXlQnbU",
        "outputId": "8d13d449-83e4-4cbe-f737-ff3273f6c31e"
      },
      "execution_count": null,
      "outputs": [
        {
          "output_type": "stream",
          "name": "stdout",
          "text": [
            "<class 'pandas.core.frame.DataFrame'>\n",
            "RangeIndex: 28397 entries, 0 to 28396\n",
            "Data columns (total 12 columns):\n",
            " #   Column      Non-Null Count  Dtype  \n",
            "---  ------      --------------  -----  \n",
            " 0   CODEALERTA  28397 non-null  int64  \n",
            " 1   FONTE       28397 non-null  object \n",
            " 2   BIOMA       28397 non-null  object \n",
            " 3   ESTADO      28397 non-null  object \n",
            " 4   MUNICIPIO   28397 non-null  object \n",
            " 5   AREAHA      28397 non-null  float64\n",
            " 6   ANODETEC    28397 non-null  int64  \n",
            " 7   DATADETEC   28397 non-null  object \n",
            " 8   DTIMGANT    28397 non-null  object \n",
            " 9   DTIMGDEP    28397 non-null  object \n",
            " 10  DTPUBLI     28397 non-null  object \n",
            " 11  VPRESSAO    28397 non-null  object \n",
            "dtypes: float64(1), int64(2), object(9)\n",
            "memory usage: 2.6+ MB\n"
          ]
        }
      ]
    },
    {
      "cell_type": "code",
      "source": [
        "# Remover múltiplas colunas de uma vez, temos que deixar municipio, area ha (pra calcular o desmatamento, data tec e ano)\n",
        "\n",
        "colunas_para_remover = ['CODEALERTA', 'FONTE', 'ESTADO', 'DTIMGANT', 'DTIMGDEP', 'DTPUBLI', 'VPRESSAO']\n",
        "\n",
        "df3_limpo = df3.drop(columns=colunas_para_remover)\n",
        "\n",
        "print(df3_limpo.head())"
      ],
      "metadata": {
        "id": "UHR6fDjZfFf9",
        "colab": {
          "base_uri": "https://localhost:8080/"
        },
        "outputId": "35550a0b-892a-463f-935e-b122c730c18e"
      },
      "execution_count": null,
      "outputs": [
        {
          "output_type": "stream",
          "name": "stdout",
          "text": [
            "      BIOMA      MUNICIPIO  AREAHA  ANODETEC   DATADETEC\n",
            "0  Caatinga           Iaçu    2.96      2024  2024/01/01\n",
            "1  Caatinga  Miguel Calmon    1.69      2024  2024/01/01\n",
            "2  Caatinga     Buritirama    2.05      2024  2024/01/01\n",
            "3  Caatinga          Piatã    0.69      2024  2024/01/01\n",
            "4  Caatinga       Cotegipe   23.97      2024  2024/01/01\n"
          ]
        }
      ]
    },
    {
      "cell_type": "code",
      "source": [
        "\n",
        "print(df3_limpo.info())"
      ],
      "metadata": {
        "colab": {
          "base_uri": "https://localhost:8080/"
        },
        "id": "WBdJUsJ9f3Yi",
        "outputId": "273a420e-c4da-44b4-fc3b-9548f8b6850f"
      },
      "execution_count": null,
      "outputs": [
        {
          "output_type": "stream",
          "name": "stdout",
          "text": [
            "<class 'pandas.core.frame.DataFrame'>\n",
            "RangeIndex: 28397 entries, 0 to 28396\n",
            "Data columns (total 5 columns):\n",
            " #   Column     Non-Null Count  Dtype  \n",
            "---  ------     --------------  -----  \n",
            " 0   BIOMA      28397 non-null  object \n",
            " 1   MUNICIPIO  28397 non-null  object \n",
            " 2   AREAHA     28397 non-null  float64\n",
            " 3   ANODETEC   28397 non-null  int64  \n",
            " 4   DATADETEC  28397 non-null  object \n",
            "dtypes: float64(1), int64(1), object(3)\n",
            "memory usage: 1.1+ MB\n",
            "None\n"
          ]
        }
      ]
    },
    {
      "cell_type": "code",
      "source": [
        "# Verificar se tem valores faltantes\n",
        "\n",
        "print(df3_limpo.isnull().sum())\n"
      ],
      "metadata": {
        "colab": {
          "base_uri": "https://localhost:8080/"
        },
        "id": "Jeufw3Gvf6gj",
        "outputId": "daaaf05e-b322-4229-b29f-95a91ddf3bd2"
      },
      "execution_count": null,
      "outputs": [
        {
          "output_type": "stream",
          "name": "stdout",
          "text": [
            "BIOMA        0\n",
            "MUNICIPIO    0\n",
            "AREAHA       0\n",
            "ANODETEC     0\n",
            "DATADETEC    0\n",
            "dtype: int64\n"
          ]
        }
      ]
    },
    {
      "cell_type": "code",
      "source": [
        "df3_MUN = df3_limpo.groupby('MUNICIPIO')['AREAHA'].sum().reset_index()\n",
        "\n",
        "# Mostrar o resultado\n",
        "print(df3_MUN.head())\n",
        "\n",
        "df3_ANO = df3_limpo.groupby('ANODETEC')['AREAHA'].sum().reset_index()\n",
        "\n",
        "# Mostrar o resultado\n",
        "print(df3_ANO.head())"
      ],
      "metadata": {
        "colab": {
          "base_uri": "https://localhost:8080/"
        },
        "id": "4LvRvq8pSL8G",
        "outputId": "4103c8eb-0c72-4e69-ed0d-28ed38d783e0"
      },
      "execution_count": null,
      "outputs": [
        {
          "output_type": "stream",
          "name": "stdout",
          "text": [
            "   MUNICIPIO  AREAHA\n",
            "0      Abaré   22.43\n",
            "1     Abaíra   69.20\n",
            "2  Acajutiba  127.70\n",
            "3   Adustina  482.47\n",
            "4    Aiquara  175.27\n",
            "   ANODETEC     AREAHA\n",
            "0      2019   64554.41\n",
            "1      2020  113073.16\n",
            "2      2021  154250.73\n",
            "3      2022  227779.90\n",
            "4      2023  290593.00\n"
          ]
        }
      ]
    },
    {
      "cell_type": "code",
      "source": [
        "# Salvando o arquivo final em um novo CSV\n",
        "\n",
        "df3_limpo.to_csv('desmatamento.csv', index=False)\n",
        "\n",
        "print(df3_limpo)"
      ],
      "metadata": {
        "id": "Dmt95mSDi-XN",
        "colab": {
          "base_uri": "https://localhost:8080/"
        },
        "outputId": "31168c05-9234-4240-e93f-844adedf2962"
      },
      "execution_count": null,
      "outputs": [
        {
          "output_type": "stream",
          "name": "stdout",
          "text": [
            "          BIOMA        MUNICIPIO  AREAHA  ANODETEC   DATADETEC\n",
            "0      Caatinga             Iaçu    2.96      2024  2024/01/01\n",
            "1      Caatinga    Miguel Calmon    1.69      2024  2024/01/01\n",
            "2      Caatinga       Buritirama    2.05      2024  2024/01/01\n",
            "3      Caatinga            Piatã    0.69      2024  2024/01/01\n",
            "4      Caatinga         Cotegipe   23.97      2024  2024/01/01\n",
            "...         ...              ...     ...       ...         ...\n",
            "28392  Caatinga          Guajeru    1.47      2024  2024/01/01\n",
            "28393  Caatinga       Filadélfia    1.56      2024  2024/01/01\n",
            "28394  Caatinga        Itaberaba   54.26      2024  2024/01/01\n",
            "28395  Caatinga  Barra da Estiva    7.11      2024  2024/01/01\n",
            "28396  Caatinga   Várzea da Roça    2.37      2024  2024/01/01\n",
            "\n",
            "[28397 rows x 5 columns]\n"
          ]
        }
      ]
    }
  ]
}